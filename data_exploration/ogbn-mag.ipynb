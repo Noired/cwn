{
 "cells": [
  {
   "cell_type": "code",
   "execution_count": 1,
   "metadata": {},
   "outputs": [
    {
     "name": "stderr",
     "output_type": "stream",
     "text": [
      "WARNING:root:The OGB package is out of date. Your version is 1.2.3, while the latest version is 1.2.4.\n"
     ]
    }
   ],
   "source": [
    "import numpy as np\n",
    "import ogb\n",
    "from ogb.nodeproppred import PygNodePropPredDataset\n",
    "from torch_geometric.data import DataLoader\n",
    "import networkx as nx\n",
    "import matplotlib.pyplot as plt\n",
    "import matplotlib.cm as cm\n",
    "from utils import get_nx_graph, color_mapper, draw_legend"
   ]
  },
  {
   "cell_type": "code",
   "execution_count": 2,
   "metadata": {},
   "outputs": [],
   "source": [
    "d_name = 'ogbn-mag'\n",
    "dataset = PygNodePropPredDataset(name=d_name) \n",
    "\n",
    "split_idx = dataset.get_idx_split() "
   ]
  },
  {
   "cell_type": "code",
   "execution_count": 3,
   "metadata": {},
   "outputs": [
    {
     "name": "stdout",
     "output_type": "stream",
     "text": [
      "349\n",
      "True\n",
      "----\n",
      "{'author': 1134649, 'field_of_study': 59965, 'institution': 8740, 'paper': 736389}\n",
      "None\n"
     ]
    }
   ],
   "source": [
    "# print some info about the dataset\n",
    "print(dataset.num_classes)\n",
    "print(dataset.is_hetero)\n",
    "print('----')\n",
    "\n",
    "data = dataset[0]\n",
    "print(data.num_nodes)\n",
    "print(data.num_edges)"
   ]
  },
  {
   "cell_type": "code",
   "execution_count": 4,
   "metadata": {},
   "outputs": [
    {
     "name": "stdout",
     "output_type": "stream",
     "text": [
      "tensor([[      0,       0,       0,  ..., 1134647, 1134648, 1134648],\n",
      "        [  19703,  289285,  311768,  ...,  657395,  671118,  719594]])\n",
      "torch.Size([736389, 1])\n"
     ]
    }
   ],
   "source": [
    "print(data.edge_index_dict[('author', 'writes', 'paper')])\n",
    "print(data.node_year['paper'].shape)"
   ]
  },
  {
   "cell_type": "code",
   "execution_count": 5,
   "metadata": {},
   "outputs": [
    {
     "data": {
      "image/png": "[encoded data removed]",
      "text/plain": [
       "<Figure size 432x288 with 1 Axes>"
      ]
     },
     "metadata": {
      "needs_background": "light"
     },
     "output_type": "display_data"
    }
   ],
   "source": [
    "# inspect years\n",
    "years = data.node_year['paper'].numpy()\n",
    "plt.figure()\n",
    "plt.hist(years)\n",
    "plt.show()\n",
    "plt.close()"
   ]
  },
  {
   "cell_type": "code",
   "execution_count": 6,
   "metadata": {},
   "outputs": [],
   "source": [
    "# filter papers based on years\n",
    "\n",
    "threshold = 2010\n",
    "selection = set(np.where(years<=threshold)[0].tolist())"
   ]
  },
  {
   "cell_type": "code",
   "execution_count": 7,
   "metadata": {},
   "outputs": [],
   "source": [
    "# filter edges based on the above\n",
    "\n",
    "edges = data.edge_index_dict[('author', 'writes', 'paper')].numpy().T\n",
    "filtered_edges = [(a, b) for (a, b) in edges if b in selection]"
   ]
  },
  {
   "cell_type": "code",
   "execution_count": 8,
   "metadata": {},
   "outputs": [],
   "source": [
    "# project on papers\n",
    "\n",
    "author_to_paper = dict()\n",
    "paper_to_author = dict()\n",
    "for edge in filtered_edges:\n",
    "    author, paper = edge\n",
    "    if author not in author_to_paper:\n",
    "        author_to_paper[author] = set()\n",
    "    author_to_paper[author].add(paper)\n",
    "    if paper not in paper_to_author:\n",
    "        paper_to_author[paper] = set()\n",
    "    paper_to_author[paper].add(author) \n",
    "\n",
    "simplices = {}\n",
    "for paper in paper_to_author:\n",
    "    k = len(paper_to_author[paper])\n",
    "    if k not in simplices:\n",
    "        simplices[k] = set()\n",
    "    simplices[k].add(paper)"
   ]
  },
  {
   "cell_type": "code",
   "execution_count": 9,
   "metadata": {},
   "outputs": [
    {
     "data": {
      "image/png": "[encoded data removed]",
      "text/plain": [
       "<Figure size 432x288 with 1 Axes>"
      ]
     },
     "metadata": {
      "needs_background": "light"
     },
     "output_type": "display_data"
    }
   ],
   "source": [
    "# inspect k distribution\n",
    "\n",
    "max_k = 3\n",
    "k_representations = {k: len(simplices[k]) for k in simplices if k <= max_k}\n",
    "x = sorted(k_representations.keys())\n",
    "y = [k_representations[k] for k in x]\n",
    "\n",
    "plt.figure()\n",
    "plt.bar(x, y)\n",
    "plt.show()\n",
    "plt.close()"
   ]
  },
  {
   "cell_type": "code",
   "execution_count": 10,
   "metadata": {},
   "outputs": [
    {
     "name": "stdout",
     "output_type": "stream",
     "text": [
      "35127\n"
     ]
    }
   ],
   "source": [
    "# how many facets if we only consider up to triangles?\n",
    "\n",
    "count = 0\n",
    "for k in range(1, max_k + 1):\n",
    "    count += k_representations[k]\n",
    "print(count)"
   ]
  },
  {
   "cell_type": "code",
   "execution_count": 11,
   "metadata": {},
   "outputs": [
    {
     "name": "stdout",
     "output_type": "stream",
     "text": [
      "69921 73553\n"
     ]
    }
   ],
   "source": [
    "# what about the same authors writing multiple papers?\n",
    "\n",
    "authors_to_paper = dict()\n",
    "for paper in paper_to_author:\n",
    "    authors = tuple(sorted(paper_to_author[paper]))\n",
    "    if authors not in authors_to_paper:\n",
    "        authors_to_paper[authors] = list()\n",
    "    authors_to_paper[authors].append(paper)\n",
    "    \n",
    "print(len(authors_to_paper), len(paper_to_author))"
   ]
  },
  {
   "cell_type": "code",
   "execution_count": 12,
   "metadata": {},
   "outputs": [
    {
     "name": "stdout",
     "output_type": "stream",
     "text": [
      "number of overall unique facets:  66866\n"
     ]
    },
    {
     "data": {
      "image/png": "[encoded data removed]",
      "text/plain": [
       "<Figure size 432x288 with 1 Axes>"
      ]
     },
     "metadata": {
      "needs_background": "light"
     },
     "output_type": "display_data"
    },
    {
     "name": "stdout",
     "output_type": "stream",
     "text": [
      "number of unique facets up to k=3:  30123\n"
     ]
    }
   ],
   "source": [
    "# let's discard those cases for now\n",
    "\n",
    "unique_author_to_paper = dict()\n",
    "for authors in authors_to_paper:\n",
    "    if len(authors_to_paper[authors]) == 1:\n",
    "        unique_author_to_paper[authors] = authors_to_paper[authors][0]\n",
    "        \n",
    "unique_paper_to_author = dict()\n",
    "for authors in unique_author_to_paper:\n",
    "    unique_paper_to_author[unique_author_to_paper[authors]] = authors\n",
    "\n",
    "print('number of overall unique facets: ', len(unique_paper_to_author))\n",
    "\n",
    "unique_facets = dict()\n",
    "for paper in unique_paper_to_author:\n",
    "    k = len(unique_paper_to_author[paper])\n",
    "    if k not in unique_facets:\n",
    "        unique_facets[k] = set()\n",
    "    unique_facets[k].add(paper)\n",
    "\n",
    "max_k = 3\n",
    "unique_k_frequencies = {k: len(unique_facets[k]) for k in unique_facets if k <= max_k}\n",
    "x = sorted(unique_k_frequencies.keys())\n",
    "y = [unique_k_frequencies[k] for k in x]\n",
    "\n",
    "plt.figure()\n",
    "plt.bar(x, y)\n",
    "plt.show()\n",
    "plt.close()\n",
    "\n",
    "count = 0\n",
    "for k in range(1, max_k + 1):\n",
    "    count += unique_k_frequencies[k]\n",
    "print('number of unique facets up to k={}: '.format(max_k), count)"
   ]
  },
  {
   "cell_type": "code",
   "execution_count": 13,
   "metadata": {},
   "outputs": [],
   "source": [
    "# sample even more for now\n",
    "\n",
    "import random\n",
    "num_papers = 5000\n",
    "paper_list = list(unique_paper_to_author.keys())\n",
    "random.shuffle(paper_list)\n",
    "sample = set(paper_list[:num_papers])"
   ]
  },
  {
   "cell_type": "code",
   "execution_count": 14,
   "metadata": {},
   "outputs": [
    {
     "data": {
      "image/png": "[encoded data removed]",
      "text/plain": [
       "<Figure size 432x288 with 1 Axes>"
      ]
     },
     "metadata": {
      "needs_background": "light"
     },
     "output_type": "display_data"
    },
    {
     "name": "stdout",
     "output_type": "stream",
     "text": [
      "number of unique facets up to k=3:  2241\n"
     ]
    }
   ],
   "source": [
    "sampled_unique_facets = dict()\n",
    "for paper in unique_paper_to_author:\n",
    "    k = len(unique_paper_to_author[paper])\n",
    "    if k not in sampled_unique_facets:\n",
    "        sampled_unique_facets[k] = set()\n",
    "    if paper in sample:\n",
    "        sampled_unique_facets[k].add(paper)\n",
    "\n",
    "max_k = 3\n",
    "sampled_unique_k_frequencies = {k: len(sampled_unique_facets[k]) for k in sampled_unique_facets if k <= max_k}\n",
    "x = sorted(sampled_unique_k_frequencies.keys())\n",
    "y = [sampled_unique_k_frequencies[k] for k in x]\n",
    "\n",
    "plt.figure()\n",
    "plt.bar(x, y)\n",
    "plt.show()\n",
    "plt.close()\n",
    "\n",
    "count = 0\n",
    "for k in range(1, max_k+1):\n",
    "    count += sampled_unique_k_frequencies[k]\n",
    "print('number of unique facets up to k={}: '.format(max_k), count)"
   ]
  },
  {
   "cell_type": "code",
   "execution_count": 16,
   "metadata": {},
   "outputs": [],
   "source": [
    "# ok, let's try to connect them\n",
    "# ... we will start by constructing upper adjacencies\n",
    "# we can start from facets and then recur down\n",
    "\n",
    "import itertools as it\n",
    "\n",
    "def get_faces(simplex, as_sets=True):\n",
    "    k = len(simplex)\n",
    "    if k == 1:\n",
    "        raise ValueError(\"0-simplices do not have faces.\")\n",
    "    if as_sets:\n",
    "        return set([set(face) for face in it.combinations(simplex, len(simplex)-1)])\n",
    "    else:\n",
    "        return set([tuple(sorted(comb)) for comb in it.combinations(simplex, len(simplex)-1)])\n",
    "\n",
    "def fill_upper_adjs(nodes, all_simplices, non_facets, not_in_sample, upper_adjacencies):\n",
    "    \n",
    "    # keep track of the simplices encountered;\n",
    "    # ... and those which do not correspond to any facet (they\n",
    "    # won't have features assigned as they don't match any paper)\n",
    "    nodes = tuple(sorted(nodes))\n",
    "    all_simplices.add(nodes)\n",
    "    if nodes not in unique_author_to_paper:\n",
    "        non_facets.add(nodes)\n",
    "    else:\n",
    "        paper = unique_author_to_paper[nodes]\n",
    "        if paper not in sample:\n",
    "            not_in_sample.add(paper)\n",
    "    \n",
    "    # stop recursion if nodea have been reached\n",
    "    k = len(nodes)\n",
    "    if k == 1:\n",
    "        return all_simplices, non_facets, not_in_sample, upper_adjacencies\n",
    "    \n",
    "    # get faces of the input simplex: all of them are\n",
    "    # considered to be upper adjacent\n",
    "    faces = get_faces(nodes, as_sets=False)\n",
    "    for face in faces:\n",
    "            \n",
    "        # add adjacencies to all other faces in the simplex\n",
    "        if face not in upper_adjacencies[k-1]:\n",
    "            upper_adjacencies[k-1][face] = set()\n",
    "        upper_adjacencies[k-1][face] |= faces - {face}\n",
    "        \n",
    "        # recur down\n",
    "        all_simplices, non_facets, in_sample, upper_adjacencies = fill_upper_adjs(face, all_simplices, non_facets, not_in_sample, upper_adjacencies)\n",
    "\n",
    "    return all_simplices, non_facets, not_in_sample, upper_adjacencies\n",
    "\n",
    "all_simplices = set()\n",
    "non_facets = set()\n",
    "not_in_sample = set()\n",
    "upper_adjacencies = dict()\n",
    "for k in range(1, max_k):\n",
    "    upper_adjacencies[k] = dict()\n",
    "\n",
    "for k in range(1, max_k+1):\n",
    "    facets = sampled_unique_facets[k]\n",
    "    for facet in facets:\n",
    "        nodes = paper_to_author[facet]\n",
    "        assert tuple(sorted(nodes)) in unique_author_to_paper\n",
    "        all_simplices, non_facets, not_in_sample, upper_adjacencies = fill_upper_adjs(nodes, all_simplices, non_facets, not_in_sample, upper_adjacencies)"
   ]
  },
  {
   "cell_type": "code",
   "execution_count": 17,
   "metadata": {},
   "outputs": [
    {
     "data": {
      "text/plain": [
       "9799"
      ]
     },
     "execution_count": 17,
     "metadata": {},
     "output_type": "execute_result"
    }
   ],
   "source": [
    "len(all_simplices)"
   ]
  },
  {
   "cell_type": "code",
   "execution_count": 18,
   "metadata": {},
   "outputs": [
    {
     "data": {
      "text/plain": [
       "7366"
      ]
     },
     "execution_count": 18,
     "metadata": {},
     "output_type": "execute_result"
    }
   ],
   "source": [
    "len(non_facets)"
   ]
  },
  {
   "cell_type": "code",
   "execution_count": 19,
   "metadata": {},
   "outputs": [
    {
     "data": {
      "text/plain": [
       "2433"
      ]
     },
     "execution_count": 19,
     "metadata": {},
     "output_type": "execute_result"
    }
   ],
   "source": [
    "len(all_simplices - non_facets)"
   ]
  },
  {
   "cell_type": "code",
   "execution_count": 20,
   "metadata": {},
   "outputs": [
    {
     "data": {
      "text/plain": [
       "True"
      ]
     },
     "execution_count": 20,
     "metadata": {},
     "output_type": "execute_result"
    }
   ],
   "source": [
    "len(not_in_sample) == len(all_simplices - non_facets) - count"
   ]
  },
  {
   "cell_type": "code",
   "execution_count": 21,
   "metadata": {},
   "outputs": [],
   "source": [
    "all_simplices_by_key = dict()\n",
    "for simplex in all_simplices:\n",
    "    k = len(simplex)\n",
    "    if k not in all_simplices_by_key:\n",
    "        all_simplices_by_key[k] = list()\n",
    "    all_simplices_by_key[k].append(simplex)"
   ]
  },
  {
   "cell_type": "code",
   "execution_count": null,
   "metadata": {},
   "outputs": [],
   "source": [
    "def lower_adj(a, b, min_k=1):\n",
    "    assert len(a) == len(b)\n",
    "    k = len(a)\n",
    "    intersection = tuple(sorted(set(a) & set(b)))\n",
    "    return intersection in all_simplices and len(intersection) == k - 1 and k > min_k\n",
    "\n",
    "# lower\n",
    "lower_adjacencies = dict()\n",
    "for k in range(2, max_k+1):\n",
    "    lower_adjacencies[k] = dict()\n",
    "    \n",
    "for k in range(1, max_k+1):\n",
    "    simplices = all_simplices_by_key[k]\n",
    "    for p in range(len(simplices)):\n",
    "        for pp in range(p+1, len(simplices)):\n",
    "            nodes_p = simplices[p]\n",
    "            nodes_pp = simplices[pp]\n",
    "            if lower_adj(nodes_p, nodes_pp):\n",
    "                if nodes_p not in lower_adjacencies[k]:\n",
    "                    lower_adjacencies[k][nodes_p] = set()\n",
    "                if nodes_pp not in lower_adjacencies[k]:\n",
    "                    lower_adjacencies[k][nodes_pp] = set()\n",
    "                lower_adjacencies[k][nodes_p].add(nodes_pp)\n",
    "                lower_adjacencies[k][nodes_pp].add(nodes_p)"
   ]
  },
  {
   "cell_type": "code",
   "execution_count": null,
   "metadata": {},
   "outputs": [],
   "source": [
    "lower_adj[3]"
   ]
  },
  {
   "cell_type": "code",
   "execution_count": 404,
   "metadata": {},
   "outputs": [],
   "source": [
    "def edge_dict_to_edge_lists(lower_adjacency, upper_adjacency):\n",
    "    pass"
   ]
  },
  {
   "cell_type": "code",
   "execution_count": null,
   "metadata": {},
   "outputs": [],
   "source": []
  },
  {
   "cell_type": "code",
   "execution_count": null,
   "metadata": {},
   "outputs": [],
   "source": [
    "# can we get the connectivity between simplices?\n",
    "\n",
    "import itertools as it\n",
    "\n",
    "def lower_adj(a, b, get_simplices_fn, min_k=1):\n",
    "    assert len(a) == len(b)\n",
    "    k = len(a)\n",
    "    intersection = a & b\n",
    "    associated_simplices = get_simplices_fn(tuple(sorted(intersection)))\n",
    "    if len(associated_simplices) > 0 and k > min_k:\n",
    "        return True, associated_simplices\n",
    "    else:\n",
    "        return False, associated_simplices\n",
    "\n",
    "def upper_adj(a, b, get_simplices_fn, max_k=3):\n",
    "    assert len(a) == len(b)\n",
    "    k = len(a)\n",
    "    union = a | b\n",
    "    associated_simplices = get_simplices_fn(tuple(sorted(union)))\n",
    "    if len(associated_simplices) > 0 and k < max_k:\n",
    "        return True, associated_simplices\n",
    "    else:\n",
    "        return False, associated_simplices\n",
    "\n",
    "def get_faces(simplex, as_sets=True):\n",
    "    k = len(simplex)\n",
    "    if k == 1:\n",
    "        raise ValueError(\"0-simplices do not have faces.\")\n",
    "    if as_sets:\n",
    "        return set([set(face) for face in it.combinations(simplex, len(simplex)-1)])\n",
    "    else:\n",
    "        return set([tuple(sorted(comb)) for comb in it.combinations(simplex, len(simplex)-1)])\n",
    "    \n",
    "def get_possible_cofaces(simplex, support, as_sets=True, max_k=None):\n",
    "    k = len(simplex)\n",
    "    if max_k is not None and k >= len(support):\n",
    "        raise ValueError(\"{}-simplices cannot have cofaces.\".format(k))\n",
    "    others = support - simplex\n",
    "    if as_sets:\n",
    "        return set([simplex|{node} for node in others])\n",
    "    else:\n",
    "        return set([tuple(sorted(simplex|{node})) for node in others])"
   ]
  },
  {
   "cell_type": "code",
   "execution_count": null,
   "metadata": {},
   "outputs": [],
   "source": [
    "%%time\n",
    "\n",
    "def get_simplices_fn(x):\n",
    "    if x not in authors_to_paper:\n",
    "        return list()\n",
    "    else:\n",
    "        return authors_to_paper[x]\n",
    "    \n",
    "facet_upper_connectivity = {}\n",
    "facet_lower_connectivity = {}\n",
    "max_k = 3\n",
    "for k in range(1, max_k+1):\n",
    "    papers = sorted(list(simplices[k]))\n",
    "    facet_lower_connectivity[k] = list()\n",
    "    facet_upper_connectivity[k] = list()\n",
    "    for p in range(len(papers)):\n",
    "        for pp in range(p+1, len(papers)):\n",
    "            nodes_p = paper_to_author[papers[p]]\n",
    "            nodes_pp = paper_to_author[papers[pp]]\n",
    "            if lower_adj(nodes_p, nodes_pp, get_simplices_fn)[0]:\n",
    "                facet_lower_connectivity[k].append((papers[p], papers[pp]))\n",
    "                facet_lower_connectivity[k].append((papers[pp], papers[p]))\n",
    "            if upper_adj(nodes_p, nodes_pp, get_simplices_fn, max_k=max_k)[0]:\n",
    "                facet_upper_connectivity[k].append((papers[p], papers[pp]))\n",
    "                facet_upper_connectivity[k].append((papers[pp], papers[p]))"
   ]
  },
  {
   "cell_type": "code",
   "execution_count": 198,
   "metadata": {},
   "outputs": [],
   "source": [
    "import time\n",
    "def get_facet_upper_adj(simplices, k, min_k, max_k, get_nodes_fn, get_simplices_fn):\n",
    "    if k >= max_k or k < min_k:\n",
    "        return list()\n",
    "    edge_list_upper = list()\n",
    "    above = simplices[k+1]\n",
    "    k_facets = set([tuple(sorted(get_nodes_fn(simplex))) for simplex in simplices[k]])\n",
    "    for simplex in above:\n",
    "        # 1. get nodes\n",
    "        nodes = get_nodes_fn(simplex)\n",
    "        # 2. get faces\n",
    "        faces = get_faces(nodes, as_sets=False)\n",
    "        # 3. intersect with k-facets\n",
    "        selection = faces & k_facets\n",
    "        # 4. retrieve simplices from the selection\n",
    "        adj_simplices = list()\n",
    "#         if len(selection) > 1:\n",
    "#             import pdb; pdb.set_trace()\n",
    "        for nodes in selection:\n",
    "            adj_simplices += get_simplices_fn(nodes)\n",
    "        # 5. create connections\n",
    "        connections = list(it.product(adj_simplices, repeat=2))\n",
    "        # 6. remove self-loops and add\n",
    "        edge_list_upper += [(a, b) for (a, b) in connections if a != b]\n",
    "    return edge_list_upper\n",
    "\n",
    "\n",
    "def get_facet_lower_adj(simplices, k, min_k, max_k, get_nodes_fn, get_simplices_fn, num_nodes):\n",
    "    if k > max_k or k <= min_k:\n",
    "        return list()\n",
    "    support = set(list(range(num_nodes)))\n",
    "    edge_list_lower = list()\n",
    "    below = simplices[k-1]\n",
    "    k_facets = set([tuple(sorted(get_nodes_fn(simplex))) for simplex in simplices[k]])\n",
    "    for s, simplex in enumerate(below):\n",
    "        print('\\r{}/{}    '.format(s, len(below)), end='')\n",
    "        # 1. get nodes\n",
    "        nodes = get_nodes_fn(simplex)\n",
    "        # 2. get co-faces\n",
    "        cofaces = get_possible_cofaces(nodes, support, as_sets=False)\n",
    "        # 3. intersect with k-facets\n",
    "        selection = cofaces & k_facets\n",
    "        # 4. retrieve simplices from the selection\n",
    "        adj_simplices = list()\n",
    "#         if len(selection) > 1:\n",
    "#             import pdb; pdb.set_trace()\n",
    "        for nodes in selection:\n",
    "            adj_simplices += get_simplices_fn(nodes)\n",
    "        # 5. create connections\n",
    "        connections = list(it.product(adj_simplices, repeat=2))\n",
    "        # 6. remove self-loops and add\n",
    "        edge_list_lower += [(a, b) for (a, b) in connections if a != b]\n",
    "    return edge_list_lower"
   ]
  },
  {
   "cell_type": "code",
   "execution_count": 199,
   "metadata": {},
   "outputs": [
    {
     "name": "stdout",
     "output_type": "stream",
     "text": [
      "126/6494    "
     ]
    },
    {
     "ename": "KeyboardInterrupt",
     "evalue": "",
     "output_type": "error",
     "traceback": [
      "\u001b[0;31m---------------------------------------------------------------------------\u001b[0m",
      "\u001b[0;31mKeyboardInterrupt\u001b[0m                         Traceback (most recent call last)",
      "\u001b[0;32m<timed exec>\u001b[0m in \u001b[0;36m<module>\u001b[0;34m\u001b[0m\n",
      "\u001b[0;32m<ipython-input-198-55c188c44fcc>\u001b[0m in \u001b[0;36mget_facet_lower_adj\u001b[0;34m(simplices, k, min_k, max_k, get_nodes_fn, get_simplices_fn, num_nodes)\u001b[0m\n\u001b[1;32m     38\u001b[0m         \u001b[0mnodes\u001b[0m \u001b[0;34m=\u001b[0m \u001b[0mget_nodes_fn\u001b[0m\u001b[0;34m(\u001b[0m\u001b[0msimplex\u001b[0m\u001b[0;34m)\u001b[0m\u001b[0;34m\u001b[0m\u001b[0;34m\u001b[0m\u001b[0m\n\u001b[1;32m     39\u001b[0m         \u001b[0;31m# 2. get co-faces\u001b[0m\u001b[0;34m\u001b[0m\u001b[0;34m\u001b[0m\u001b[0;34m\u001b[0m\u001b[0m\n\u001b[0;32m---> 40\u001b[0;31m         \u001b[0mcofaces\u001b[0m \u001b[0;34m=\u001b[0m \u001b[0mget_possible_cofaces\u001b[0m\u001b[0;34m(\u001b[0m\u001b[0mnodes\u001b[0m\u001b[0;34m,\u001b[0m \u001b[0msupport\u001b[0m\u001b[0;34m,\u001b[0m \u001b[0mas_sets\u001b[0m\u001b[0;34m=\u001b[0m\u001b[0;32mFalse\u001b[0m\u001b[0;34m)\u001b[0m\u001b[0;34m\u001b[0m\u001b[0;34m\u001b[0m\u001b[0m\n\u001b[0m\u001b[1;32m     41\u001b[0m         \u001b[0;31m# 3. intersect with k-facets\u001b[0m\u001b[0;34m\u001b[0m\u001b[0;34m\u001b[0m\u001b[0;34m\u001b[0m\u001b[0m\n\u001b[1;32m     42\u001b[0m         \u001b[0mselection\u001b[0m \u001b[0;34m=\u001b[0m \u001b[0mcofaces\u001b[0m \u001b[0;34m&\u001b[0m \u001b[0mk_facets\u001b[0m\u001b[0;34m\u001b[0m\u001b[0;34m\u001b[0m\u001b[0m\n",
      "\u001b[0;32m<ipython-input-181-a09289ba91a1>\u001b[0m in \u001b[0;36mget_possible_cofaces\u001b[0;34m(simplex, support, as_sets, max_k)\u001b[0m\n\u001b[1;32m     32\u001b[0m         \u001b[0;32mreturn\u001b[0m \u001b[0mset\u001b[0m\u001b[0;34m(\u001b[0m\u001b[0;34m[\u001b[0m\u001b[0msimplex\u001b[0m\u001b[0;34m|\u001b[0m\u001b[0;34m{\u001b[0m\u001b[0mnode\u001b[0m\u001b[0;34m}\u001b[0m \u001b[0;32mfor\u001b[0m \u001b[0mnode\u001b[0m \u001b[0;32min\u001b[0m \u001b[0mothers\u001b[0m\u001b[0;34m]\u001b[0m\u001b[0;34m)\u001b[0m\u001b[0;34m\u001b[0m\u001b[0;34m\u001b[0m\u001b[0m\n\u001b[1;32m     33\u001b[0m     \u001b[0;32melse\u001b[0m\u001b[0;34m:\u001b[0m\u001b[0;34m\u001b[0m\u001b[0;34m\u001b[0m\u001b[0m\n\u001b[0;32m---> 34\u001b[0;31m         \u001b[0;32mreturn\u001b[0m \u001b[0mset\u001b[0m\u001b[0;34m(\u001b[0m\u001b[0;34m[\u001b[0m\u001b[0mtuple\u001b[0m\u001b[0;34m(\u001b[0m\u001b[0msorted\u001b[0m\u001b[0;34m(\u001b[0m\u001b[0msimplex\u001b[0m\u001b[0;34m|\u001b[0m\u001b[0;34m{\u001b[0m\u001b[0mnode\u001b[0m\u001b[0;34m}\u001b[0m\u001b[0;34m)\u001b[0m\u001b[0;34m)\u001b[0m \u001b[0;32mfor\u001b[0m \u001b[0mnode\u001b[0m \u001b[0;32min\u001b[0m \u001b[0mothers\u001b[0m\u001b[0;34m]\u001b[0m\u001b[0;34m)\u001b[0m\u001b[0;34m\u001b[0m\u001b[0;34m\u001b[0m\u001b[0m\n\u001b[0m",
      "\u001b[0;32m<ipython-input-181-a09289ba91a1>\u001b[0m in \u001b[0;36m<listcomp>\u001b[0;34m(.0)\u001b[0m\n\u001b[1;32m     32\u001b[0m         \u001b[0;32mreturn\u001b[0m \u001b[0mset\u001b[0m\u001b[0;34m(\u001b[0m\u001b[0;34m[\u001b[0m\u001b[0msimplex\u001b[0m\u001b[0;34m|\u001b[0m\u001b[0;34m{\u001b[0m\u001b[0mnode\u001b[0m\u001b[0;34m}\u001b[0m \u001b[0;32mfor\u001b[0m \u001b[0mnode\u001b[0m \u001b[0;32min\u001b[0m \u001b[0mothers\u001b[0m\u001b[0;34m]\u001b[0m\u001b[0;34m)\u001b[0m\u001b[0;34m\u001b[0m\u001b[0;34m\u001b[0m\u001b[0m\n\u001b[1;32m     33\u001b[0m     \u001b[0;32melse\u001b[0m\u001b[0;34m:\u001b[0m\u001b[0;34m\u001b[0m\u001b[0;34m\u001b[0m\u001b[0m\n\u001b[0;32m---> 34\u001b[0;31m         \u001b[0;32mreturn\u001b[0m \u001b[0mset\u001b[0m\u001b[0;34m(\u001b[0m\u001b[0;34m[\u001b[0m\u001b[0mtuple\u001b[0m\u001b[0;34m(\u001b[0m\u001b[0msorted\u001b[0m\u001b[0;34m(\u001b[0m\u001b[0msimplex\u001b[0m\u001b[0;34m|\u001b[0m\u001b[0;34m{\u001b[0m\u001b[0mnode\u001b[0m\u001b[0;34m}\u001b[0m\u001b[0;34m)\u001b[0m\u001b[0;34m)\u001b[0m \u001b[0;32mfor\u001b[0m \u001b[0mnode\u001b[0m \u001b[0;32min\u001b[0m \u001b[0mothers\u001b[0m\u001b[0;34m]\u001b[0m\u001b[0;34m)\u001b[0m\u001b[0;34m\u001b[0m\u001b[0;34m\u001b[0m\u001b[0m\n\u001b[0m",
      "\u001b[0;31mKeyboardInterrupt\u001b[0m: "
     ]
    }
   ],
   "source": [
    "%%time\n",
    "res = get_facet_lower_adj(simplices, 2, 1, 3, lambda x: paper_to_author[x], lambda x: authors_to_paper[x], len(paper_to_author))"
   ]
  },
  {
   "cell_type": "code",
   "execution_count": null,
   "metadata": {},
   "outputs": [],
   "source": []
  }
 ],
 "metadata": {
  "kernelspec": {
   "display_name": "Environment (conda_scn_102)",
   "language": "python",
   "name": "conda_scn_102"
  },
  "language_info": {
   "codemirror_mode": {
    "name": "ipython",
    "version": 3
   },
   "file_extension": ".py",
   "mimetype": "text/x-python",
   "name": "python",
   "nbconvert_exporter": "python",
   "pygments_lexer": "ipython3",
   "version": "3.8.5"
  }
 },
 "nbformat": 4,
 "nbformat_minor": 2
}
