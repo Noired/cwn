{
 "cells": [
  {
   "cell_type": "code",
   "execution_count": 1,
   "metadata": {},
   "outputs": [],
   "source": [
    "import sys\n",
    "sys.path.append('./..')"
   ]
  },
  {
   "cell_type": "code",
   "execution_count": 2,
   "metadata": {},
   "outputs": [],
   "source": [
    "from dummy_complexes import *\n",
    "from data.complex import ComplexBatch\n",
    "from data_loading import DataLoader"
   ]
  },
  {
   "cell_type": "code",
   "execution_count": 3,
   "metadata": {},
   "outputs": [],
   "source": [
    "house_1 = get_house_complex()\n",
    "house_2 = get_house_complex()\n",
    "data_list = [house_1, house_2]"
   ]
  },
  {
   "cell_type": "code",
   "execution_count": 4,
   "metadata": {},
   "outputs": [
    {
     "name": "stderr",
     "output_type": "stream",
     "text": [
      "WARNING:root:The number of cofaces in your chain object can only be inferred by its shared_cofaces, and hence may result in unexpected batch-wise behavior, e.g., in case there exists isolated simplices. Please consider explicitly setting the number of simplices for this data object by assigning it to chain.num_cofaces.\n",
      "WARNING:root:The number of cofaces in your chain object can only be inferred by its shared_cofaces, and hence may result in unexpected batch-wise behavior, e.g., in case there exists isolated simplices. Please consider explicitly setting the number of simplices for this data object by assigning it to chain.num_cofaces.\n",
      "WARNING:root:The number of cofaces in your chain object can only be inferred by its shared_cofaces, and hence may result in unexpected batch-wise behavior, e.g., in case there exists isolated simplices. Please consider explicitly setting the number of simplices for this data object by assigning it to chain.num_cofaces.\n",
      "WARNING:root:The number of faces in your chain object can only be inferred by its shared_faces, and hence may result in unexpected batch-wise behavior, e.g., in case there exists isolated simplices. Please consider explicitly setting the number of simplices for this data object by assigning it to chain.num_faces.\n",
      "WARNING:root:The number of cofaces in your chain object can only be inferred by its shared_cofaces, and hence may result in unexpected batch-wise behavior, e.g., in case there exists isolated simplices. Please consider explicitly setting the number of simplices for this data object by assigning it to chain.num_cofaces.\n",
      "WARNING:root:The number of faces in your chain object can only be inferred by its shared_faces, and hence may result in unexpected batch-wise behavior, e.g., in case there exists isolated simplices. Please consider explicitly setting the number of simplices for this data object by assigning it to chain.num_faces.\n"
     ]
    },
    {
     "name": "stdout",
     "output_type": "stream",
     "text": [
      "tensor([0, 0, 0, 0, 0, 1, 1, 1, 1, 1])\n",
      "tensor([0, 0, 0, 0, 0, 0, 1, 1, 1, 1, 1, 1])\n",
      "tensor([0, 1])\n"
     ]
    }
   ],
   "source": [
    "batch = ComplexBatch.from_complex_list(data_list)\n",
    "print(batch.nodes.batch)\n",
    "print(batch.edges.batch)\n",
    "print(batch.triangles.batch)"
   ]
  },
  {
   "cell_type": "code",
   "execution_count": 5,
   "metadata": {},
   "outputs": [
    {
     "name": "stdout",
     "output_type": "stream",
     "text": [
      "<mp.smp.ChainMessagePassingParams object at 0x7f2718333fa0>\n",
      "tensor([1, 1, 1, 1, 1, 1, 1, 1, 1, 1, 1, 1])\n"
     ]
    }
   ],
   "source": [
    "print(batch.get_chain_params(1))\n",
    "print(batch.get_labels(1))"
   ]
  },
  {
   "cell_type": "code",
   "execution_count": 6,
   "metadata": {},
   "outputs": [
    {
     "name": "stderr",
     "output_type": "stream",
     "text": [
      "WARNING:root:The number of cofaces in your chain object can only be inferred by its shared_cofaces, and hence may result in unexpected batch-wise behavior, e.g., in case there exists isolated simplices. Please consider explicitly setting the number of simplices for this data object by assigning it to chain.num_cofaces.\n",
      "WARNING:root:The number of cofaces in your chain object can only be inferred by its shared_cofaces, and hence may result in unexpected batch-wise behavior, e.g., in case there exists isolated simplices. Please consider explicitly setting the number of simplices for this data object by assigning it to chain.num_cofaces.\n",
      "WARNING:root:The number of cofaces in your chain object can only be inferred by its shared_cofaces, and hence may result in unexpected batch-wise behavior, e.g., in case there exists isolated simplices. Please consider explicitly setting the number of simplices for this data object by assigning it to chain.num_cofaces.\n",
      "WARNING:root:The number of cofaces in your chain object can only be inferred by its shared_cofaces, and hence may result in unexpected batch-wise behavior, e.g., in case there exists isolated simplices. Please consider explicitly setting the number of simplices for this data object by assigning it to chain.num_cofaces.\n",
      "WARNING:root:The number of faces in your chain object can only be inferred by its shared_faces, and hence may result in unexpected batch-wise behavior, e.g., in case there exists isolated simplices. Please consider explicitly setting the number of simplices for this data object by assigning it to chain.num_faces.\n",
      "WARNING:root:The number of cofaces in your chain object can only be inferred by its shared_cofaces, and hence may result in unexpected batch-wise behavior, e.g., in case there exists isolated simplices. Please consider explicitly setting the number of simplices for this data object by assigning it to chain.num_cofaces.\n",
      "WARNING:root:The number of faces in your chain object can only be inferred by its shared_faces, and hence may result in unexpected batch-wise behavior, e.g., in case there exists isolated simplices. Please consider explicitly setting the number of simplices for this data object by assigning it to chain.num_faces.\n",
      "WARNING:root:The number of cofaces in your chain object can only be inferred by its shared_cofaces, and hence may result in unexpected batch-wise behavior, e.g., in case there exists isolated simplices. Please consider explicitly setting the number of simplices for this data object by assigning it to chain.num_cofaces.\n",
      "WARNING:root:The number of faces in your chain object can only be inferred by its shared_faces, and hence may result in unexpected batch-wise behavior, e.g., in case there exists isolated simplices. Please consider explicitly setting the number of simplices for this data object by assigning it to chain.num_faces.\n",
      "WARNING:root:The number of cofaces in your chain object can only be inferred by its shared_cofaces, and hence may result in unexpected batch-wise behavior, e.g., in case there exists isolated simplices. Please consider explicitly setting the number of simplices for this data object by assigning it to chain.num_cofaces.\n",
      "WARNING:root:The number of cofaces in your chain object can only be inferred by its shared_cofaces, and hence may result in unexpected batch-wise behavior, e.g., in case there exists isolated simplices. Please consider explicitly setting the number of simplices for this data object by assigning it to chain.num_cofaces.\n",
      "WARNING:root:The number of cofaces in your chain object can only be inferred by its shared_cofaces, and hence may result in unexpected batch-wise behavior, e.g., in case there exists isolated simplices. Please consider explicitly setting the number of simplices for this data object by assigning it to chain.num_cofaces.\n",
      "WARNING:root:The number of cofaces in your chain object can only be inferred by its shared_cofaces, and hence may result in unexpected batch-wise behavior, e.g., in case there exists isolated simplices. Please consider explicitly setting the number of simplices for this data object by assigning it to chain.num_cofaces.\n",
      "WARNING:root:The number of faces in your chain object can only be inferred by its shared_faces, and hence may result in unexpected batch-wise behavior, e.g., in case there exists isolated simplices. Please consider explicitly setting the number of simplices for this data object by assigning it to chain.num_faces.\n",
      "WARNING:root:The number of cofaces in your chain object can only be inferred by its shared_cofaces, and hence may result in unexpected batch-wise behavior, e.g., in case there exists isolated simplices. Please consider explicitly setting the number of simplices for this data object by assigning it to chain.num_cofaces.\n",
      "WARNING:root:The number of faces in your chain object can only be inferred by its shared_faces, and hence may result in unexpected batch-wise behavior, e.g., in case there exists isolated simplices. Please consider explicitly setting the number of simplices for this data object by assigning it to chain.num_faces.\n",
      "WARNING:root:The number of cofaces in your chain object can only be inferred by its shared_cofaces, and hence may result in unexpected batch-wise behavior, e.g., in case there exists isolated simplices. Please consider explicitly setting the number of simplices for this data object by assigning it to chain.num_cofaces.\n",
      "WARNING:root:The number of faces in your chain object can only be inferred by its shared_faces, and hence may result in unexpected batch-wise behavior, e.g., in case there exists isolated simplices. Please consider explicitly setting the number of simplices for this data object by assigning it to chain.num_faces.\n",
      "WARNING:root:The number of cofaces in your chain object can only be inferred by its shared_cofaces, and hence may result in unexpected batch-wise behavior, e.g., in case there exists isolated simplices. Please consider explicitly setting the number of simplices for this data object by assigning it to chain.num_cofaces.\n",
      "WARNING:root:The number of cofaces in your chain object can only be inferred by its shared_cofaces, and hence may result in unexpected batch-wise behavior, e.g., in case there exists isolated simplices. Please consider explicitly setting the number of simplices for this data object by assigning it to chain.num_cofaces.\n",
      "WARNING:root:The number of cofaces in your chain object can only be inferred by its shared_cofaces, and hence may result in unexpected batch-wise behavior, e.g., in case there exists isolated simplices. Please consider explicitly setting the number of simplices for this data object by assigning it to chain.num_cofaces.\n",
      "WARNING:root:The number of cofaces in your chain object can only be inferred by its shared_cofaces, and hence may result in unexpected batch-wise behavior, e.g., in case there exists isolated simplices. Please consider explicitly setting the number of simplices for this data object by assigning it to chain.num_cofaces.\n",
      "WARNING:root:The number of faces in your chain object can only be inferred by its shared_faces, and hence may result in unexpected batch-wise behavior, e.g., in case there exists isolated simplices. Please consider explicitly setting the number of simplices for this data object by assigning it to chain.num_faces.\n",
      "WARNING:root:The number of cofaces in your chain object can only be inferred by its shared_cofaces, and hence may result in unexpected batch-wise behavior, e.g., in case there exists isolated simplices. Please consider explicitly setting the number of simplices for this data object by assigning it to chain.num_cofaces.\n",
      "WARNING:root:The number of faces in your chain object can only be inferred by its shared_faces, and hence may result in unexpected batch-wise behavior, e.g., in case there exists isolated simplices. Please consider explicitly setting the number of simplices for this data object by assigning it to chain.num_faces.\n",
      "WARNING:root:The number of cofaces in your chain object can only be inferred by its shared_cofaces, and hence may result in unexpected batch-wise behavior, e.g., in case there exists isolated simplices. Please consider explicitly setting the number of simplices for this data object by assigning it to chain.num_cofaces.\n",
      "WARNING:root:The number of faces in your chain object can only be inferred by its shared_faces, and hence may result in unexpected batch-wise behavior, e.g., in case there exists isolated simplices. Please consider explicitly setting the number of simplices for this data object by assigning it to chain.num_faces.\n",
      "WARNING:root:The number of cofaces in your chain object can only be inferred by its shared_cofaces, and hence may result in unexpected batch-wise behavior, e.g., in case there exists isolated simplices. Please consider explicitly setting the number of simplices for this data object by assigning it to chain.num_cofaces.\n",
      "WARNING:root:The number of cofaces in your chain object can only be inferred by its shared_cofaces, and hence may result in unexpected batch-wise behavior, e.g., in case there exists isolated simplices. Please consider explicitly setting the number of simplices for this data object by assigning it to chain.num_cofaces.\n",
      "WARNING:root:The number of faces in your chain object can only be inferred by its shared_faces, and hence may result in unexpected batch-wise behavior, e.g., in case there exists isolated simplices. Please consider explicitly setting the number of simplices for this data object by assigning it to chain.num_faces.\n"
     ]
    },
    {
     "name": "stdout",
     "output_type": "stream",
     "text": [
      "---------\n",
      "batch: 0\n",
      "---------\n",
      "tensor([0, 0, 0, 0, 0, 1, 1, 1, 1, 1, 2, 2, 2, 2, 2])\n",
      "tensor([0, 0, 0, 0, 0, 0, 1, 1, 1, 1, 1, 1, 2, 2, 2, 2, 2, 2])\n",
      "tensor([0, 1, 2])\n",
      "---------\n",
      "---------\n",
      "batch: 1\n",
      "---------\n",
      "tensor([0, 0, 0, 0, 0, 1, 1, 1, 1, 1, 2, 2, 2, 2, 2])\n",
      "tensor([0, 0, 0, 0, 0, 0, 1, 1, 1, 1, 1, 1, 2, 2, 2, 2, 2, 2])\n",
      "tensor([0, 1, 2])\n",
      "---------\n",
      "---------\n",
      "batch: 2\n",
      "---------\n",
      "tensor([0, 0, 0, 0, 0, 1, 1, 1, 1, 1, 2, 2, 2, 2, 2])\n",
      "tensor([0, 0, 0, 0, 0, 0, 1, 1, 1, 1, 1, 1, 2, 2, 2, 2, 2, 2])\n",
      "tensor([0, 1, 2])\n",
      "---------\n",
      "---------\n",
      "batch: 3\n",
      "---------\n",
      "tensor([0, 0, 0, 0, 0])\n",
      "tensor([0, 0, 0, 0, 0, 0])\n",
      "tensor([0])\n",
      "---------\n"
     ]
    }
   ],
   "source": [
    "data_list = [get_house_complex() for _ in range(10)]\n",
    "loader = DataLoader(data_list, batch_size=3)\n",
    "for b, batch in enumerate(loader):\n",
    "    print('---------')\n",
    "    print('batch: {}'.format(b))\n",
    "    print('---------')\n",
    "    print(batch.nodes.batch)\n",
    "    print(batch.edges.batch)\n",
    "    print(batch.triangles.batch)\n",
    "    print('---------')"
   ]
  }
 ],
 "metadata": {
  "kernelspec": {
   "display_name": "Environment (conda_scn_102)",
   "language": "python",
   "name": "conda_scn_102"
  },
  "language_info": {
   "codemirror_mode": {
    "name": "ipython",
    "version": 3
   },
   "file_extension": ".py",
   "mimetype": "text/x-python",
   "name": "python",
   "nbconvert_exporter": "python",
   "pygments_lexer": "ipython3",
   "version": "3.8.5"
  }
 },
 "nbformat": 4,
 "nbformat_minor": 2
}
