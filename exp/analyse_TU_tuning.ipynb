{
 "cells": [
  {
   "cell_type": "code",
   "execution_count": 98,
   "metadata": {},
   "outputs": [],
   "source": [
    "import pickle\n",
    "import os\n",
    "import numpy as np\n",
    "import glob"
   ]
  },
  {
   "cell_type": "code",
   "execution_count": 114,
   "metadata": {},
   "outputs": [],
   "source": [
    "dataset = '<dataset_name>'\n",
    "exp_name = '<exp_name>'\n",
    "\n",
    "\n",
    "root = './results/'\n",
    "experiment = f'{dataset}_tuning_{exp_name}'\n",
    "prefix = f'{dataset}-'\n",
    "num_configurations = 512"
   ]
  },
  {
   "cell_type": "code",
   "execution_count": 119,
   "metadata": {},
   "outputs": [
    {
     "name": "stdout",
     "output_type": "stream",
     "text": [
      "Found 64 result(s).\n"
     ]
    }
   ],
   "source": [
    "# parse aggregated results\n",
    "\n",
    "def parse_results(stream):\n",
    "    conf = dict()\n",
    "    for line in stream:\n",
    "        line = line.strip().split(':')\n",
    "        if line[0].strip() == 'Accuracy':\n",
    "            result = line[1].strip().split('±')\n",
    "            mean = float(result[0].strip())\n",
    "            std = float(result[1].strip())\n",
    "        elif line[0].strip()[:2] == '--' and line[0].strip()[2] != '-':\n",
    "            key = line[0].strip()[2:]\n",
    "            value = line[1].strip()\n",
    "            conf[key] = value\n",
    "    return (mean, std, conf)\n",
    "\n",
    "folder = os.path.join(root, experiment, prefix+'{}')\n",
    "res_list = list()\n",
    "for i in range(num_configurations):\n",
    "    path = os.path.join(folder.format(i), 'result.txt')\n",
    "    try:\n",
    "        with open(path, 'r') as handle:\n",
    "            res_list.append((*parse_results(handle), i))\n",
    "    except FileNotFoundError:\n",
    "        continue\n",
    "print('Found {} result(s).'.format(len(res_list)))"
   ]
  },
  {
   "cell_type": "code",
   "execution_count": 120,
   "metadata": {},
   "outputs": [
    {
     "name": "stdout",
     "output_type": "stream",
     "text": [
      "-------------------------------------------------------\n",
      "1 (11): 0.5731 ± 0.0156\n",
      "\n",
      "\tbatch_size: 32\n",
      "\tdrop_rate: 0.0\n",
      "\tfinal_readout: sum\n",
      "\tlr: 0.001\n",
      "\tlr_scheduler_decay_rate: 0.9\n",
      "\tlr_scheduler_decay_steps: 20\n",
      "\n",
      "-------------------------------------------------------\n",
      "2 (10): 0.5689 ± 0.0125\n",
      "\n",
      "\tbatch_size: 32\n",
      "\tdrop_rate: 0.0\n",
      "\tfinal_readout: sum\n",
      "\tlr: 0.001\n",
      "\tlr_scheduler_decay_rate: 0.9\n",
      "\tlr_scheduler_decay_steps: 50\n",
      "\n",
      "-------------------------------------------------------\n",
      "3 (32): 0.5683 ± 0.0134\n",
      "\n",
      "\tbatch_size: 128\n",
      "\tdrop_rate: 0.0\n",
      "\tfinal_readout: mean\n",
      "\tlr: 0.001\n",
      "\tlr_scheduler_decay_rate: 0.5\n",
      "\tlr_scheduler_decay_steps: 50\n",
      "\n",
      "-------------------------------------------------------\n",
      "4 (8): 0.5681 ± 0.0181\n",
      "\n",
      "\tbatch_size: 32\n",
      "\tdrop_rate: 0.0\n",
      "\tfinal_readout: sum\n",
      "\tlr: 0.001\n",
      "\tlr_scheduler_decay_rate: 0.5\n",
      "\tlr_scheduler_decay_steps: 50\n",
      "\n",
      "-------------------------------------------------------\n",
      "5 (9): 0.5679 ± 0.0250\n",
      "\n",
      "\tbatch_size: 32\n",
      "\tdrop_rate: 0.0\n",
      "\tfinal_readout: sum\n",
      "\tlr: 0.001\n",
      "\tlr_scheduler_decay_rate: 0.5\n",
      "\tlr_scheduler_decay_steps: 20\n",
      "\n"
     ]
    }
   ],
   "source": [
    "# rank and inspect\n",
    "\n",
    "ranked = sorted(res_list, key=lambda x: -x[0])\n",
    "inspect_args = [\n",
    "    'batch_size',\n",
    "    'drop_rate',\n",
    "    'final_readout',\n",
    "    'lr',\n",
    "    'lr_scheduler_decay_rate',\n",
    "    'lr_scheduler_decay_steps']\n",
    "k = 5\n",
    "\n",
    "for i in range(k):\n",
    "    print('-------------------------------------------------------')\n",
    "    print('{} ({}): {:.4f} ± {:.4f}\\n'.format(i+1, ranked[i][3], ranked[i][0], ranked[i][1]))\n",
    "    for key in ranked[i][2]:\n",
    "        if key not in inspect_args:\n",
    "            continue\n",
    "        print('\\t{}: {}'.format(key, ranked[i][2][key]))\n",
    "    print()"
   ]
  }
 ],
 "metadata": {
  "kernelspec": {
   "display_name": "Environment (conda_scn_102)",
   "language": "python",
   "name": "conda_scn_102"
  },
  "language_info": {
   "codemirror_mode": {
    "name": "ipython",
    "version": 3
   },
   "file_extension": ".py",
   "mimetype": "text/x-python",
   "name": "python",
   "nbconvert_exporter": "python",
   "pygments_lexer": "ipython3",
   "version": "3.8.8"
  }
 },
 "nbformat": 4,
 "nbformat_minor": 2
}
